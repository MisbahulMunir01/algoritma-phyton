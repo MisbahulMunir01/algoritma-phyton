{
  "nbformat": 4,
  "nbformat_minor": 0,
  "metadata": {
    "colab": {
      "provenance": [],
      "authorship_tag": "ABX9TyMqMFdIsn9BJB7fSsNE2yb/",
      "include_colab_link": true
    },
    "kernelspec": {
      "name": "python3",
      "display_name": "Python 3"
    },
    "language_info": {
      "name": "python"
    }
  },
  "cells": [
    {
      "cell_type": "markdown",
      "metadata": {
        "id": "view-in-github",
        "colab_type": "text"
      },
      "source": [
        "<a href=\"https://colab.research.google.com/github/MisbahulMunir01/algoritma-phyton/blob/main/Untitled3.ipynb\" target=\"_parent\"><img src=\"https://colab.research.google.com/assets/colab-badge.svg\" alt=\"Open In Colab\"/></a>"
      ]
    },
    {
      "cell_type": "code",
      "execution_count": 8,
      "metadata": {
        "colab": {
          "base_uri": "https://localhost:8080/"
        },
        "id": "VmUvriYmYWhi",
        "outputId": "75059427-6999-4f05-d4f7-5ce73e1a0251"
      },
      "outputs": [
        {
          "output_type": "stream",
          "name": "stdout",
          "text": [
            "98\n",
            "7\n",
            "464\n",
            "11\n",
            "42.18181818181818\n"
          ]
        }
      ],
      "source": [
        "arr = [23, 12, 34, 56, 7, 45, 98, 67, 34, 65, 23,]\n",
        "nilai_maksimum = max(arr)\n",
        "print(nilai_maksimum)\n",
        "nilai_minimum = min(arr)\n",
        "print(nilai_minimum)\n",
        "penjumlahan = sum(arr)\n",
        "print(penjumlahan)\n",
        "jumlah_elemen = len(arr)\n",
        "print(jumlah_elemen)\n",
        "rata_rata = penjumlahan/jumlah_elemen\n",
        "print(rata_rata)\n",
        "\n"
      ]
    },
    {
      "cell_type": "code",
      "source": [],
      "metadata": {
        "id": "ikeYORjBdksU"
      },
      "execution_count": null,
      "outputs": []
    },
    {
      "cell_type": "code",
      "source": [],
      "metadata": {
        "id": "wTdIYsmMfPes"
      },
      "execution_count": null,
      "outputs": []
    }
  ]
}
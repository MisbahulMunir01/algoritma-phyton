{
  "nbformat": 4,
  "nbformat_minor": 0,
  "metadata": {
    "colab": {
      "provenance": [],
      "authorship_tag": "ABX9TyO2pADmnv5Of6wsJDMljC38",
      "include_colab_link": true
    },
    "kernelspec": {
      "name": "python3",
      "display_name": "Python 3"
    },
    "language_info": {
      "name": "python"
    }
  },
  "cells": [
    {
      "cell_type": "markdown",
      "metadata": {
        "id": "view-in-github",
        "colab_type": "text"
      },
      "source": [
        "<a href=\"https://colab.research.google.com/github/MisbahulMunir01/algoritma-phyton/blob/main/Untitled3.ipynb\" target=\"_parent\"><img src=\"https://colab.research.google.com/assets/colab-badge.svg\" alt=\"Open In Colab\"/></a>"
      ]
    },
    {
      "cell_type": "code",
      "execution_count": 12,
      "metadata": {
        "colab": {
          "base_uri": "https://localhost:8080/"
        },
        "id": "VmUvriYmYWhi",
        "outputId": "7aeed4a8-8de0-4bd7-b534-97c72c2a4dd2"
      },
      "outputs": [
        {
          "output_type": "stream",
          "name": "stdout",
          "text": [
            "98\n"
          ]
        }
      ],
      "source": [
        "arr = [23, 12, 34, 56, 7, 45, 98, 67, 34, 65, 23,]\n",
        "nilai_maksimum = max(arr)\n",
        "print(nilai_maksimum)"
      ]
    },
    {
      "cell_type": "code",
      "source": [
        "arr = [23, 12, 34, 56, 7, 45, 98, 67, 34, 65, 23,]\n",
        "nilai_minimum = min(arr)\n",
        "print(nilai_minimum)"
      ],
      "metadata": {
        "colab": {
          "base_uri": "https://localhost:8080/"
        },
        "id": "Smoj-GHhiJws",
        "outputId": "cbdba8e4-b328-4418-c8d2-b0bfc2dd80cc"
      },
      "execution_count": 13,
      "outputs": [
        {
          "output_type": "stream",
          "name": "stdout",
          "text": [
            "7\n"
          ]
        }
      ]
    },
    {
      "cell_type": "code",
      "source": [
        "arr = [23, 12, 34, 56, 7, 45, 98, 67, 34, 65, 23,]\n",
        "penjumlahan = sum(arr)\n",
        "print(penjumlahan)"
      ],
      "metadata": {
        "colab": {
          "base_uri": "https://localhost:8080/"
        },
        "id": "ikeYORjBdksU",
        "outputId": "3eae73a4-9b9b-42c3-d8f0-93220ba04aab"
      },
      "execution_count": 9,
      "outputs": [
        {
          "output_type": "stream",
          "name": "stdout",
          "text": [
            "464\n"
          ]
        }
      ]
    },
    {
      "cell_type": "code",
      "source": [
        "arr = [23, 12, 34, 56, 7, 45, 98, 67, 34, 65, 23,]\n",
        "jumlah_elemen = len(arr)\n",
        "print(jumlah_elemen)"
      ],
      "metadata": {
        "colab": {
          "base_uri": "https://localhost:8080/"
        },
        "id": "wTdIYsmMfPes",
        "outputId": "0cb02e26-dd97-4b0c-a712-083baa152a3a"
      },
      "execution_count": 10,
      "outputs": [
        {
          "output_type": "stream",
          "name": "stdout",
          "text": [
            "11\n"
          ]
        }
      ]
    },
    {
      "cell_type": "code",
      "source": [
        "arr = [23, 12, 34, 56, 7, 45, 98, 67, 34, 65, 23,]\n",
        "rata_rata = penjumlahan/jumlah_elemen\n",
        "print(rata_rata)"
      ],
      "metadata": {
        "colab": {
          "base_uri": "https://localhost:8080/"
        },
        "id": "PdBs8GcDhSbE",
        "outputId": "8ef96359-31b0-4f1f-ee7a-a36bb65325ce"
      },
      "execution_count": 11,
      "outputs": [
        {
          "output_type": "stream",
          "name": "stdout",
          "text": [
            "42.18181818181818\n"
          ]
        }
      ]
    }
  ]
}
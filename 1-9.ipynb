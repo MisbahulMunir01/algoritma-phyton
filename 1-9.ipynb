{
  "nbformat": 4,
  "nbformat_minor": 0,
  "metadata": {
    "colab": {
      "provenance": [],
      "authorship_tag": "ABX9TyOhUjfLgUAFU2RquqhJTZZH",
      "include_colab_link": true
    },
    "kernelspec": {
      "name": "python3",
      "display_name": "Python 3"
    },
    "language_info": {
      "name": "python"
    }
  },
  "cells": [
    {
      "cell_type": "markdown",
      "metadata": {
        "id": "view-in-github",
        "colab_type": "text"
      },
      "source": [
        "<a href=\"https://colab.research.google.com/github/MisbahulMunir01/algoritma-phyton/blob/main/1-9.ipynb\" target=\"_parent\"><img src=\"https://colab.research.google.com/assets/colab-badge.svg\" alt=\"Open In Colab\"/></a>"
      ]
    },
    {
      "cell_type": "code",
      "execution_count": 2,
      "metadata": {
        "colab": {
          "base_uri": "https://localhost:8080/"
        },
        "id": "OPO4J-MeLJKr",
        "outputId": "d8ca1e5a-9da4-4cec-b43c-6f967272d1a2"
      },
      "outputs": [
        {
          "output_type": "stream",
          "name": "stdout",
          "text": [
            "Halo, Munir! Selamat belajar Python!\n"
          ]
        }
      ],
      "source": [
        "# soal 1\n",
        "nama = \"Munir\"\n",
        "pesan = \"Selamat belajar Python!\"\n",
        "\n",
        "print(f\"Halo, {nama}! {pesan}\")\n",
        "\n"
      ]
    },
    {
      "cell_type": "code",
      "source": [
        "# soal 2\n",
        "panjang = int(input(\"masukkan panjang :\"))\n",
        "lebar = int(input(\"masukkan lebar :\"))\n",
        "luas = panjang * lebar\n",
        "print(\"Luas persegi panjang adalah:\", luas)\n",
        "\n"
      ],
      "metadata": {
        "colab": {
          "base_uri": "https://localhost:8080/"
        },
        "id": "11FDRtrKL_FT",
        "outputId": "3c5e4fa2-2716-41cb-e8cf-61fc9fa6a391"
      },
      "execution_count": 5,
      "outputs": [
        {
          "output_type": "stream",
          "name": "stdout",
          "text": [
            "masukkan panjang :5\n",
            "masukkan lebar :3\n",
            "Luas persegi panjang adalah: 15\n"
          ]
        }
      ]
    },
    {
      "cell_type": "code",
      "source": [
        "# soal 3\n",
        "bilangan = int(input(\"Masukkan bilangan: \"))\n",
        "if bilangan % 2 == 0:\n",
        "    print(f\"{bilangan} adalah bilangan genap\")\n",
        "else:\n",
        "    print(f\"{bilangan} adalah bilangan ganjil\")\n"
      ],
      "metadata": {
        "colab": {
          "base_uri": "https://localhost:8080/"
        },
        "id": "4VGNLckAPFSj",
        "outputId": "e6c215ce-b3ff-4adc-e8ce-5ed56ff39887"
      },
      "execution_count": 9,
      "outputs": [
        {
          "output_type": "stream",
          "name": "stdout",
          "text": [
            "Masukkan bilangan: 99\n",
            "99 adalah bilangan ganjil\n"
          ]
        }
      ]
    },
    {
      "cell_type": "code",
      "source": [
        "# soal 4\n",
        "for i in range(1, 21):\n",
        "    print(i, end=\" \")\n"
      ],
      "metadata": {
        "colab": {
          "base_uri": "https://localhost:8080/"
        },
        "id": "uSJGC2aYRQCi",
        "outputId": "9bfddf2d-5d80-4dd8-96b1-160e6bf4c563"
      },
      "execution_count": 13,
      "outputs": [
        {
          "output_type": "stream",
          "name": "stdout",
          "text": [
            "1 2 3 4 5 6 7 8 9 10 11 12 13 14 15 16 17 18 19 20 "
          ]
        }
      ]
    },
    {
      "cell_type": "code",
      "source": [
        "# soal 5\n",
        "a = int(input(\"Masukkan bilangan pertama: \"))\n",
        "b = int(input(\"Masukkan bilangan kedua: \"))\n",
        "jumlah = 0\n",
        "for i in range(a, b + 1):\n",
        "  jumlah+= i\n",
        "print(f\"Jumlah bilangan antara {a} dan {b} adalah {jumlah}\")"
      ],
      "metadata": {
        "colab": {
          "base_uri": "https://localhost:8080/"
        },
        "id": "5G-64rrtWvwa",
        "outputId": "5f70e4ac-5973-4108-919f-0c269f244f05"
      },
      "execution_count": 24,
      "outputs": [
        {
          "output_type": "stream",
          "name": "stdout",
          "text": [
            "Masukkan bilangan pertama: 3\n",
            "Masukkan bilangan kedua: 7\n",
            "Jumlah bilangan antara 3 dan 7 adalah 25\n"
          ]
        }
      ]
    },
    {
      "cell_type": "code",
      "source": [
        "# soal 6\n",
        "a = int(input(\"Masukkan bilangan pertama: \"))\n",
        "b = int(input(\"Masukkan bilangan kedua : \"))\n",
        "for i in range(a, b + 1):\n",
        "    if i % 2 == 0:\n",
        "        print(i)\n"
      ],
      "metadata": {
        "colab": {
          "base_uri": "https://localhost:8080/"
        },
        "id": "r4Halh-_Zyvp",
        "outputId": "4cc6bb49-bafe-4078-faa4-f1394001f425"
      },
      "execution_count": 36,
      "outputs": [
        {
          "output_type": "stream",
          "name": "stdout",
          "text": [
            "Masukkan bilangan pertama: 2\n",
            "Masukkan bilangan kedua : 10\n",
            "2\n",
            "4\n",
            "6\n",
            "8\n",
            "10\n"
          ]
        }
      ]
    },
    {
      "cell_type": "code",
      "source": [
        "# soal 7\n",
        "arr = [5, 2, 8, 1]\n",
        "for i in range(len(arr)):\n",
        "    print(arr[i], end=\" \")\n"
      ],
      "metadata": {
        "colab": {
          "base_uri": "https://localhost:8080/"
        },
        "id": "OVtJM961fMiZ",
        "outputId": "131d04e1-d68a-45cb-cf14-53dd85bcc3bb"
      },
      "execution_count": 38,
      "outputs": [
        {
          "output_type": "stream",
          "name": "stdout",
          "text": [
            "5 2 8 1 "
          ]
        }
      ]
    },
    {
      "cell_type": "code",
      "source": [
        "# soal 8\n",
        "angka = int(input(\"Masukkan sebuah bilangan bulat: \"))\n",
        "def is_prime(angka):\n",
        "    if angka <= 1:\n",
        "        return False\n",
        "    for i in range(2, int(angka ** 0.5) + 1):\n",
        "        if angka % i == 0:\n",
        "            return False\n",
        "    return True\n",
        "if is_prime(n):\n",
        "    print(f\"{n} adalah bilangan prima.\")\n",
        "else:\n",
        "    print(f\"{n} bukan bilangan prima.\")\n",
        "\n"
      ],
      "metadata": {
        "colab": {
          "base_uri": "https://localhost:8080/"
        },
        "id": "I1kbBTphgxHh",
        "outputId": "92b35aae-7d6b-4877-a8c9-8b8c778629c5"
      },
      "execution_count": 45,
      "outputs": [
        {
          "output_type": "stream",
          "name": "stdout",
          "text": [
            "Masukkan sebuah bilangan bulat: 13\n",
            "13 adalah bilangan prima.\n"
          ]
        }
      ]
    }
  ]
}
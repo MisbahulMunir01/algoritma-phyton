{
  "nbformat": 4,
  "nbformat_minor": 0,
  "metadata": {
    "colab": {
      "provenance": [],
      "authorship_tag": "ABX9TyMKBpka306Ra1kgDs7nM5PL",
      "include_colab_link": true
    },
    "kernelspec": {
      "name": "python3",
      "display_name": "Python 3"
    },
    "language_info": {
      "name": "python"
    }
  },
  "cells": [
    {
      "cell_type": "markdown",
      "metadata": {
        "id": "view-in-github",
        "colab_type": "text"
      },
      "source": [
        "<a href=\"https://colab.research.google.com/github/MisbahulMunir01/algoritma-phyton/blob/main/ARRAY.ipynb\" target=\"_parent\"><img src=\"https://colab.research.google.com/assets/colab-badge.svg\" alt=\"Open In Colab\"/></a>"
      ]
    },
    {
      "cell_type": "code",
      "source": [
        "NumbInt = [9, 8, 7, 6, 5, 4, 3, 2, 1, 0]\n",
        "print(NumbInt[2])"
      ],
      "metadata": {
        "colab": {
          "base_uri": "https://localhost:8080/"
        },
        "id": "GsOAEzVZtRJe",
        "outputId": "dbf61c83-c5f0-4096-d67f-6e0925dd8ac5"
      },
      "execution_count": 8,
      "outputs": [
        {
          "output_type": "stream",
          "name": "stdout",
          "text": [
            "7\n"
          ]
        }
      ]
    },
    {
      "cell_type": "code",
      "source": [
        "NumbInt = [0 for i in range(10)]\n",
        "print(NumbInt[6])\n"
      ],
      "metadata": {
        "colab": {
          "base_uri": "https://localhost:8080/"
        },
        "id": "81f99AwyuNBM",
        "outputId": "8dd29920-ba6e-42f6-b125-fffaaff55ce1"
      },
      "execution_count": 12,
      "outputs": [
        {
          "output_type": "stream",
          "name": "stdout",
          "text": [
            "0\n"
          ]
        }
      ]
    },
    {
      "cell_type": "code",
      "source": [
        "StarChar = [ 1 for i in range(10)]\n",
        "print(StarChar[5])"
      ],
      "metadata": {
        "colab": {
          "base_uri": "https://localhost:8080/"
        },
        "id": "6fIFZ77dvayd",
        "outputId": "170ca8d6-c9db-4601-8c0a-0b7fb098171a"
      },
      "execution_count": 19,
      "outputs": [
        {
          "output_type": "stream",
          "name": "stdout",
          "text": [
            "1\n"
          ]
        }
      ]
    },
    {
      "cell_type": "code",
      "source": [
        "NumbInt = [1, 2, 4, -1, 100, 2, 0, -1, 3, 9]\n",
        "print(NumbInt[5])\n"
      ],
      "metadata": {
        "colab": {
          "base_uri": "https://localhost:8080/"
        },
        "id": "O5G5AtKPwVo_",
        "outputId": "e7cc7da3-55c7-4c6e-e308-58bf1a0de31f"
      },
      "execution_count": 21,
      "outputs": [
        {
          "output_type": "stream",
          "name": "stdout",
          "text": [
            "2\n"
          ]
        }
      ]
    },
    {
      "cell_type": "code",
      "source": [
        "# Contoh 5: Program IsiArray\n",
        "# Mengisi array dengan nilai dari pengguna\n",
        "\n",
        "# Deklarasi array dan inisialisasi dengan nilai default 0\n",
        "NumbInt = [0 for _ in range(10)]\n",
        "\n",
        "# Mengisi array dari pembacaan nilai dari keyboard\n",
        "for i in range(10):\n",
        "    NumbInt[i] = int(input(f\"Masukkan nilai ke-{i + 1}: \"))"
      ],
      "metadata": {
        "colab": {
          "base_uri": "https://localhost:8080/"
        },
        "id": "j8Y3nRWixlck",
        "outputId": "73f55e9f-4ebd-42b8-fe48-2809a44849d8"
      },
      "execution_count": 23,
      "outputs": [
        {
          "name": "stdout",
          "output_type": "stream",
          "text": [
            "Masukkan nilai ke-1: 2\n",
            "Masukkan nilai ke-2: 3\n",
            "Masukkan nilai ke-3: 4\n",
            "Masukkan nilai ke-4: 5\n",
            "Masukkan nilai ke-5: 6\n",
            "Masukkan nilai ke-6: 7\n",
            "Masukkan nilai ke-7: 8\n",
            "Masukkan nilai ke-8: 9\n",
            "Masukkan nilai ke-9: 10\n",
            "Masukkan nilai ke-10: 11\n"
          ]
        }
      ]
    },
    {
      "cell_type": "code",
      "source": [
        "# Contoh 6: Program IsiArray\n",
        "# Mengisi array dengan nilai dari pengguna dan mencetaknya\n",
        "\n",
        "# Deklarasi array dan inisialisasi dengan nilai default 0\n",
        "NumbInt = [0 for _ in range(10)]\n",
        "\n",
        "# Mengisi array dari pembacaan nilai dari keyboard\n",
        "for i in range(10):\n",
        "    NumbInt[i] = int(input(f\"Masukkan nilai ke-{i + 1}: \"))\n",
        "\n",
        "# Mencetak isi array\n",
        "print(\"\\nIsi array:\")\n",
        "for i in range(10):\n",
        "    print(f\"Elemen ke-{i + 1}: {NumbInt[i]}\")\n",
        ""
      ],
      "metadata": {
        "colab": {
          "base_uri": "https://localhost:8080/"
        },
        "id": "gRJx8vV7xsYc",
        "outputId": "05bceb94-bc4d-4d73-9df5-7f613364b069"
      },
      "execution_count": 32,
      "outputs": [
        {
          "output_type": "stream",
          "name": "stdout",
          "text": [
            "Masukkan nilai ke-1: 55\n",
            "Masukkan nilai ke-2: 55\n",
            "Masukkan nilai ke-3: 34\n",
            "Masukkan nilai ke-4: 56\n",
            "Masukkan nilai ke-5: 56\n",
            "Masukkan nilai ke-6: 56\n",
            "Masukkan nilai ke-7: 56\n",
            "Masukkan nilai ke-8: 78\n",
            "Masukkan nilai ke-9: 78\n",
            "Masukkan nilai ke-10: 45\n",
            "\n",
            "Isi array:\n",
            "Elemen ke-1: 55\n",
            "Elemen ke-2: 55\n",
            "Elemen ke-3: 34\n",
            "Elemen ke-4: 56\n",
            "Elemen ke-5: 56\n",
            "Elemen ke-6: 56\n",
            "Elemen ke-7: 56\n",
            "Elemen ke-8: 78\n",
            "Elemen ke-9: 78\n",
            "Elemen ke-10: 45\n"
          ]
        }
      ]
    },
    {
      "cell_type": "code",
      "source": [
        "# contoh nomor 7 Program AverageArray\n",
        "# Menghitung nilai rata-rata elemen array\n",
        "\n",
        "# Deklarasi array dan inisialisasi dengan nilai default 0\n",
        "NumbInt = [0 for _ in range(10)]\n",
        "\n",
        "# Mengisi array dari input pengguna\n",
        "for i in range(10):\n",
        "    NumbInt[i] = int(input(f\"Masukkan nilai ke-{i + 1}: \"))\n",
        "\n",
        "# Menjumlahkan elemen array\n",
        "total = sum(NumbInt)\n",
        "\n",
        "# Menghitung nilai rata-rata\n",
        "rata = total / len(NumbInt)\n",
        "\n",
        "# Menampilkan hasil\n",
        "print(\"Nilai rata-rata =\", rata)"
      ],
      "metadata": {
        "colab": {
          "base_uri": "https://localhost:8080/"
        },
        "id": "--_ZXTvHzzD7",
        "outputId": "18f5bc7e-5940-43bc-fe59-e0a592f69f08"
      },
      "execution_count": 33,
      "outputs": [
        {
          "output_type": "stream",
          "name": "stdout",
          "text": [
            "Masukkan nilai ke-1: 77\n",
            "Masukkan nilai ke-2: 98\n",
            "Masukkan nilai ke-3: 87\n",
            "Masukkan nilai ke-4: 54\n",
            "Masukkan nilai ke-5: 90\n",
            "Masukkan nilai ke-6: 66\n",
            "Masukkan nilai ke-7: 78\n",
            "Masukkan nilai ke-8: 67\n",
            "Masukkan nilai ke-9: 76\n",
            "Masukkan nilai ke-10: 87\n",
            "Nilai rata-rata = 78.0\n"
          ]
        }
      ]
    },
    {
      "cell_type": "code",
      "source": [
        "# Program: Perkalian Array dan Mencari Nilai Ekstrem\n",
        "# 1. Inisialisasi array S\n",
        "S = [4, 1, -1, 10, 0, 12]\n",
        "# 2. Input nilai D dari pengguna\n",
        "D = int(input(\"Masukkan nilai D (pengali): \"))\n",
        "# 3. Kalikan setiap elemen S dengan D\n",
        "S = [elemen * D for elemen in S]\n",
        "# 4. Tampilkan hasil array setelah dikalikan\n",
        "print(\"Array S setelah dikalikan dengan D:\")\n",
        "print(S)\n",
        "# 5. Cari nilai maksimum dan minimum\n",
        "maks = max(S)\n",
        "minim = min(S)\n",
        "# 6. Tampilkan nilai maksimum dan minimum\n",
        "print(\"Nilai terbesar dalam array:\", maks)\n",
        "print(\"Nilai terkecil dalam array:\", minim)"
      ],
      "metadata": {
        "colab": {
          "base_uri": "https://localhost:8080/"
        },
        "id": "h8VY3_sy0Mh8",
        "outputId": "a5cb9f41-4abb-4577-a90b-e6b1b233135c"
      },
      "execution_count": 34,
      "outputs": [
        {
          "output_type": "stream",
          "name": "stdout",
          "text": [
            "Masukkan nilai D (pengali): 50\n",
            "Array S setelah dikalikan dengan D:\n",
            "[200, 50, -50, 500, 0, 600]\n",
            "Nilai terbesar dalam array: 600\n",
            "Nilai terkecil dalam array: -50\n"
          ]
        }
      ]
    },
    {
      "cell_type": "code",
      "source": [
        "MatSatuan = [\n",
        "    [0, 1, 0, 1, 1, 0, 1],\n",
        "    [1, 1, 1, 0, 1, 1, 1],\n",
        "    [0, 0, 0, 1, 1, 0, 1]\n",
        "]\n",
        "\n",
        "print(\"Isi MatSatuan:\")\n",
        "for row in MatSatuan:\n",
        "    print(row)"
      ],
      "metadata": {
        "colab": {
          "base_uri": "https://localhost:8080/"
        },
        "id": "NoHdoI3j5Fn6",
        "outputId": "99e8cc3e-f2d3-4396-b7c4-d604383670a4"
      },
      "execution_count": 35,
      "outputs": [
        {
          "output_type": "stream",
          "name": "stdout",
          "text": [
            "Isi MatSatuan:\n",
            "[0, 1, 0, 1, 1, 0, 1]\n",
            "[1, 1, 1, 0, 1, 1, 1]\n",
            "[0, 0, 0, 1, 1, 0, 1]\n"
          ]
        }
      ]
    },
    {
      "cell_type": "code",
      "source": [
        "MatValue = [[0 for j in range(4)] for i in range(3)]\n",
        "\n",
        "print(\"\\nIsi MatValue:\")\n",
        "for row in MatValue:\n",
        "    print(row)"
      ],
      "metadata": {
        "colab": {
          "base_uri": "https://localhost:8080/"
        },
        "id": "Kjo3NINr5Ozh",
        "outputId": "aa6f8665-062e-4c8e-dfa4-7ff2f7d2f08a"
      },
      "execution_count": 37,
      "outputs": [
        {
          "output_type": "stream",
          "name": "stdout",
          "text": [
            "\n",
            "Isi MatValue:\n",
            "[0, 0, 0, 0]\n",
            "[0, 0, 0, 0]\n",
            "[0, 0, 0, 0]\n"
          ]
        }
      ]
    },
    {
      "cell_type": "code",
      "source": [
        "# Deklarasi matriks M1\n",
        "M1 = [\n",
        "    [1, 2, 3, 4, 5],\n",
        "    [6, 7, 8, 9, 10],\n",
        "    [11, 12, 13, 14, 15],\n",
        "    [16, 17, 18, 19, 20],\n",
        "    [21, 22, 23, 24, 25]\n",
        "]\n",
        "\n",
        "print(M1[4][0])  # Output: 21\n",
        "\n",
        "x = M1[0][0] * M1[3][3]\n",
        "print(x)  # Output: 1 * 19 = 19\n",
        "\n",
        "M1[1][1] = 8\n",
        "\n",
        "print(\"Matriks M1 setelah perubahan:\")\n",
        "for row in M1:\n",
        "    print(row)\n",
        "try:\n",
        "    print(M1[0][5])\n",
        "except IndexError:\n",
        "    print(\"Error: M1[0][5] tidak ada, karena kolom maksimal adalah 4.\")"
      ],
      "metadata": {
        "colab": {
          "base_uri": "https://localhost:8080/"
        },
        "id": "fwim_72Z5wQa",
        "outputId": "31543772-82d0-42bb-c920-95d002123c05"
      },
      "execution_count": 38,
      "outputs": [
        {
          "output_type": "stream",
          "name": "stdout",
          "text": [
            "21\n",
            "19\n",
            "Matriks M1 setelah perubahan:\n",
            "[1, 2, 3, 4, 5]\n",
            "[6, 8, 8, 9, 10]\n",
            "[11, 12, 13, 14, 15]\n",
            "[16, 17, 18, 19, 20]\n",
            "[21, 22, 23, 24, 25]\n",
            "Error: M1[0][5] tidak ada, karena kolom maksimal adalah 4.\n"
          ]
        }
      ]
    },
    {
      "cell_type": "code",
      "source": [
        "# Program IsiMatriks\n",
        "# Mengisi matriks dan menampilkan ke layar\n",
        "\n",
        "# Ukuran matriks\n",
        "NBrs = 5\n",
        "NKol = 5\n",
        "\n",
        "# Deklarasi dan inisialisasi matriks M dengan nilai 0\n",
        "M = [[0 for j in range(NKol)] for i in range(NBrs)]\n",
        "\n",
        "# Mengisi matriks dengan rumus: M[i][j] = i * j\n",
        "for i in range(NBrs):\n",
        "    for j in range(NKol):\n",
        "        M[i][j] = i * j\n",
        "\n",
        "# Menuliskan isi matriks ke layar\n",
        "print(\"Isi Matriks:\")\n",
        "for i in range(NBrs):\n",
        "    for j in range(NKol):\n",
        "        print(str(M[i][j]).rjust(3), end=' ')  # rjust biar rata kanan\n",
        "    print()  # pindah ke baris baru"
      ],
      "metadata": {
        "colab": {
          "base_uri": "https://localhost:8080/"
        },
        "id": "wZiRbA0V6dmJ",
        "outputId": "f683f47e-da73-4f23-eb30-9f6d03da06d7"
      },
      "execution_count": 40,
      "outputs": [
        {
          "output_type": "stream",
          "name": "stdout",
          "text": [
            "Isi Matriks:\n",
            "  0   0   0   0   0 \n",
            "  0   1   2   3   4 \n",
            "  0   2   4   6   8 \n",
            "  0   3   6   9  12 \n",
            "  0   4   8  12  16 \n"
          ]
        }
      ]
    },
    {
      "cell_type": "code",
      "source": [
        "1\n",
        "# Program BacaMatriks\n",
        "# Membaca isi matriks dari pengguna dan menampilkannya ke layar\n",
        "\n",
        "# Inisialisasi ukuran matriks\n",
        "NBrs = 5\n",
        "NKol = 5\n",
        "\n",
        "# Deklarasi dan inisialisasi matriks kosong\n",
        "M = [[0 for j in range(NKol)] for i in range(NBrs)]\n",
        "\n",
        "# Membaca isi matriks dari user\n",
        "for i in range(NBrs):\n",
        "    for j in range(NKol):\n",
        "        M[i][j] = int(input(f\"Elemen ke-[{i}][{j}] = \"))\n",
        "\n",
        "# Menampilkan isi matriks ke layar\n",
        "print(\"\\nIsi Matriks yang dimasukkan:\")\n",
        "for i in range(NBrs):\n",
        "    for j in range(NKol):\n",
        "        print(str(M[i][j]).rjust(3), end=' ')\n",
        "    print()  # pindah baris setelah satu baris matriks ditampilkan"
      ],
      "metadata": {
        "colab": {
          "base_uri": "https://localhost:8080/"
        },
        "id": "mAAWsx_37MaK",
        "outputId": "b9eefda0-0e28-44a2-fc31-bf196e267692"
      },
      "execution_count": 46,
      "outputs": [
        {
          "output_type": "stream",
          "name": "stdout",
          "text": [
            "Elemen ke-[0][0] = 1\n",
            "Elemen ke-[0][1] = 1\n",
            "Elemen ke-[0][2] = 1\n",
            "Elemen ke-[0][3] = 1\n",
            "Elemen ke-[0][4] = 1\n",
            "Elemen ke-[1][0] = 1\n",
            "Elemen ke-[1][1] = 1\n",
            "Elemen ke-[1][2] = 1\n",
            "Elemen ke-[1][3] = 1\n",
            "Elemen ke-[1][4] = 1\n",
            "Elemen ke-[2][0] = 1\n",
            "Elemen ke-[2][1] = 1\n",
            "Elemen ke-[2][2] = 1\n",
            "Elemen ke-[2][3] = 1\n",
            "Elemen ke-[2][4] = 1\n",
            "Elemen ke-[3][0] = 1\n",
            "Elemen ke-[3][1] = 1\n",
            "Elemen ke-[3][2] = 1\n",
            "Elemen ke-[3][3] = 1\n",
            "Elemen ke-[3][4] = 1\n",
            "Elemen ke-[4][0] = 1\n",
            "Elemen ke-[4][1] = 1\n",
            "Elemen ke-[4][2] = 1\n",
            "Elemen ke-[4][3] = 1\n",
            "Elemen ke-[4][4] = 1\n",
            "\n",
            "Isi Matriks yang dimasukkan:\n",
            "  1   1   1   1   1 \n",
            "  1   1   1   1   1 \n",
            "  1   1   1   1   1 \n",
            "  1   1   1   1   1 \n",
            "  1   1   1   1   1 \n"
          ]
        }
      ]
    },
    {
      "cell_type": "code",
      "source": [
        "# Program untuk membaca matriks dan mengalikan setiap elemennya dengan X\n",
        "\n",
        "# Membaca ukuran matriks\n",
        "baris = int(input(\"Masukkan jumlah baris: \"))\n",
        "kolom = int(input(\"Masukkan jumlah kolom: \"))\n",
        "\n",
        "# Membaca elemen-elemen matriks\n",
        "print(\"Masukkan elemen-elemen matriks:\")\n",
        "matriks = []\n",
        "for i in range(baris):\n",
        "    baris_matriks = []\n",
        "    for j in range(kolom):\n",
        "        elemen = int(input(f\"Elemen [{i}][{j}] = \"))\n",
        "        baris_matriks.append(elemen)\n",
        "    matriks.append(baris_matriks)\n",
        "\n",
        "# Membaca nilai X\n",
        "X = int(input(\"Masukkan nilai X untuk mengalikan semua elemen matriks: \"))\n",
        "\n",
        "# Mengalikan setiap elemen matriks dengan X\n",
        "hasil = []\n",
        "for i in range(baris):\n",
        "    hasil_baris = []\n",
        "    for j in range(kolom):\n",
        "        hasil_baris.append(matriks[i][j] * X)\n",
        "    hasil.append(hasil_baris)\n",
        "\n",
        "# Menampilkan hasil matriks\n",
        "print(f\"\\nMatriks setelah dikalikan dengan {X}:\")\n",
        "for baris in hasil:\n",
        "    print(baris)"
      ],
      "metadata": {
        "colab": {
          "base_uri": "https://localhost:8080/"
        },
        "id": "jUhRqdHe8gxi",
        "outputId": "1cdc7d22-ad35-401a-e68b-2ae0d65bdbc8"
      },
      "execution_count": 50,
      "outputs": [
        {
          "output_type": "stream",
          "name": "stdout",
          "text": [
            "Masukkan jumlah baris: 4\n",
            "Masukkan jumlah kolom: 4\n",
            "Masukkan elemen-elemen matriks:\n",
            "Elemen [0][0] = 1\n",
            "Elemen [0][1] = 2\n",
            "Elemen [0][2] = 3\n",
            "Elemen [0][3] = 4\n",
            "Elemen [1][0] = 5\n",
            "Elemen [1][1] = 6\n",
            "Elemen [1][2] = 7\n",
            "Elemen [1][3] = 8\n",
            "Elemen [2][0] = 9\n",
            "Elemen [2][1] = 1\n",
            "Elemen [2][2] = 2\n",
            "Elemen [2][3] = 3\n",
            "Elemen [3][0] = 4\n",
            "Elemen [3][1] = 5\n",
            "Elemen [3][2] = 6\n",
            "Elemen [3][3] = 7\n",
            "Masukkan nilai X untuk mengalikan semua elemen matriks: 8\n",
            "\n",
            "Matriks setelah dikalikan dengan 8:\n",
            "[8, 16, 24, 32]\n",
            "[40, 48, 56, 64]\n",
            "[72, 8, 16, 24]\n",
            "[32, 40, 48, 56]\n"
          ]
        }
      ]
    },
    {
      "cell_type": "code",
      "source": [
        "# Program untuk membuat transpose dari sebuah matriks\n",
        "\n",
        "# Input ukuran matriks\n",
        "baris = int(input(\"Masukkan jumlah baris matriks M: \"))\n",
        "kolom = int(input(\"Masukkan jumlah kolom matriks M: \"))\n",
        "\n",
        "# Input elemen-elemen matriks M\n",
        "print(\"Masukkan elemen-elemen matriks M:\")\n",
        "M = []\n",
        "for i in range(baris):\n",
        "    baris_matriks = []\n",
        "    for j in range(kolom):\n",
        "        elemen = int(input(f\"Elemen M[{i}][{j}] = \"))\n",
        "        baris_matriks.append(elemen)\n",
        "    M.append(baris_matriks)\n",
        "\n",
        "# Membuat transpose dari M (MTranspose)\n",
        "MTranspose = []\n",
        "for i in range(kolom):  # baris MTranspose = kolom M\n",
        "    baris_transpose = []\n",
        "    for j in range(baris):  # kolom MTranspose = baris M\n",
        "        baris_transpose.append(M[j][i])  # MTranspose[i][j] = M[j][i]\n",
        "    MTranspose.append(baris_transpose)\n",
        "\n",
        "# Output hasil transpose\n",
        "print(\"\\nMatriks Transpose (MTranspose):\")\n",
        "for baris in MTranspose:\n",
        "    print(baris)"
      ],
      "metadata": {
        "colab": {
          "base_uri": "https://localhost:8080/"
        },
        "id": "ImZgt1dg9NQJ",
        "outputId": "4c59887b-1e0f-4d9e-8603-a3bedc0f6f5f"
      },
      "execution_count": 51,
      "outputs": [
        {
          "output_type": "stream",
          "name": "stdout",
          "text": [
            "Masukkan jumlah baris matriks M: 3\n",
            "Masukkan jumlah kolom matriks M: 3\n",
            "Masukkan elemen-elemen matriks M:\n",
            "Elemen M[0][0] = 1\n",
            "Elemen M[0][1] = 3\n",
            "Elemen M[0][2] = 5\n",
            "Elemen M[1][0] = 7\n",
            "Elemen M[1][1] = 9\n",
            "Elemen M[1][2] = 3\n",
            "Elemen M[2][0] = 6\n",
            "Elemen M[2][1] = 9\n",
            "Elemen M[2][2] = 1\n",
            "\n",
            "Matriks Transpose (MTranspose):\n",
            "[1, 7, 6]\n",
            "[3, 9, 9]\n",
            "[5, 3, 1]\n"
          ]
        }
      ]
    },
    {
      "cell_type": "code",
      "source": [],
      "metadata": {
        "id": "6SwtePp69Ur5"
      },
      "execution_count": null,
      "outputs": []
    }
  ]
}